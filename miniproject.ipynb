{
  "cells": [
    {
      "cell_type": "markdown",
      "metadata": {
        "id": "view-in-github",
        "colab_type": "text"
      },
      "source": [
        "<a href=\"https://colab.research.google.com/github/Dhaya182/pliblockathon/blob/main/miniproject.ipynb\" target=\"_parent\"><img src=\"https://colab.research.google.com/assets/colab-badge.svg\" alt=\"Open In Colab\"/></a>"
      ]
    },
    {
      "cell_type": "code",
      "execution_count": null,
      "metadata": {
        "id": "xgGhca_barFd"
      },
      "outputs": [],
      "source": [
        "import numpy as np\n",
        "import matplotlib.pyplot as plt\n",
        "import os\n",
        "import cv2\n",
        "from tqdm import tqdm\n",
        "import tensorflow as tf\n",
        "import time\n",
        "from tensorflow.keras.preprocessing.image import ImageDataGenerator\n",
        "from tensorflow.keras.models import Sequential\n",
        "from tensorflow.keras.layers import Dense, Dropout, Activation, Flatten\n",
        "from tensorflow.keras.layers import Conv2D, MaxPooling2D\n",
        "from tensorflow.keras.models import Model"
      ]
    },
    {
      "cell_type": "code",
      "source": [
        "#gpu_options = tf.GPUOptions(per_process_gpu_memory_fraction=0.33)\n",
        "#sess=tf.Session(config=tf.ConfigProto(gpu_options=gpu_options))"
      ],
      "metadata": {
        "id": "MdcwlXuugdcz"
      },
      "execution_count": null,
      "outputs": []
    },
    {
      "cell_type": "markdown",
      "metadata": {
        "id": "_eb9VmJdPn9n"
      },
      "source": []
    },
    {
      "cell_type": "code",
      "execution_count": null,
      "metadata": {
        "id": "Tr98FR09a1G7"
      },
      "outputs": [],
      "source": [
        "!cp '/content/drive/MyDrive/kaggle.json' '/content'"
      ]
    },
    {
      "cell_type": "code",
      "execution_count": null,
      "metadata": {
        "id": "j6HtAIjhegzX"
      },
      "outputs": [],
      "source": [
        "import zipfile\n",
        "import os\n",
        "\n",
        "os.environ['KAGGLE_CONFIG_DIR'] = \"/content\""
      ]
    },
    {
      "cell_type": "code",
      "execution_count": null,
      "metadata": {
        "id": "tS0et_Xda-o9"
      },
      "outputs": [],
      "source": [
        "!kaggle datasets download -d yasinpratomo/wound-dataset"
      ]
    },
    {
      "cell_type": "code",
      "execution_count": null,
      "metadata": {
        "id": "JuV9aiteepSH"
      },
      "outputs": [],
      "source": [
        "data= zipfile.ZipFile('wound-dataset.zip', 'r') \n",
        "data.extractall()"
      ]
    },
    {
      "cell_type": "code",
      "execution_count": null,
      "metadata": {
        "id": "THRDaHguert8"
      },
      "outputs": [],
      "source": [
        "DATADIR = \"/content/Wound_dataset\""
      ]
    },
    {
      "cell_type": "code",
      "execution_count": null,
      "metadata": {
        "id": "4WFM4ahte4LK"
      },
      "outputs": [],
      "source": [
        "CATEGORIES = [\"Abrasions\",\"Bruises\",\n",
        "              \"Burns\",\"Cut\",\"Ingrown_nails\",\n",
        "              \"Laceration\",\"Stab_wound\"\n",
        "              ]"
      ]
    },
    {
      "cell_type": "code",
      "execution_count": null,
      "metadata": {
        "id": "fAd-KFatfXPJ"
      },
      "outputs": [],
      "source": [
        "for category in CATEGORIES:  \n",
        "    path = os.path.join(DATADIR,category) \n",
        "    for img in os.listdir(path):  \n",
        "        img_array = cv2.imread(os.path.join(path,img),3)  \n",
        "        plt.imshow(img_array) \n",
        "        plt.show() \n",
        "\n",
        "        break \n",
        "    break "
      ]
    },
    {
      "cell_type": "code",
      "execution_count": null,
      "metadata": {
        "id": "0ppLBtzYkLDn"
      },
      "outputs": [],
      "source": [
        "print(img_array)\n"
      ]
    },
    {
      "cell_type": "code",
      "execution_count": null,
      "metadata": {
        "id": "qCN6Ehd8kL-R"
      },
      "outputs": [],
      "source": [
        "print(img_array.shape)"
      ]
    },
    {
      "cell_type": "code",
      "execution_count": null,
      "metadata": {
        "id": "H2aM8Z98BFoA"
      },
      "outputs": [],
      "source": [
        "print(len(img_array))"
      ]
    },
    {
      "cell_type": "code",
      "execution_count": null,
      "metadata": {
        "id": "TTpPgoj4kULo"
      },
      "outputs": [],
      "source": [
        "IMG_SIZE = 200\n",
        "new_array = cv2.resize(img_array, (IMG_SIZE, IMG_SIZE))\n",
        "plt.imshow(new_array)\n",
        "plt.show()\n"
      ]
    },
    {
      "cell_type": "markdown",
      "source": [],
      "metadata": {
        "id": "pY-A33hyQp__"
      }
    },
    {
      "cell_type": "code",
      "execution_count": null,
      "metadata": {
        "id": "cWo1W1Dykp7W"
      },
      "outputs": [],
      "source": [
        "new_array"
      ]
    },
    {
      "cell_type": "code",
      "execution_count": null,
      "metadata": {
        "id": "7_RphrpwjzSg"
      },
      "outputs": [],
      "source": [
        "print(new_array.shape)"
      ]
    },
    {
      "cell_type": "code",
      "execution_count": null,
      "metadata": {
        "id": "4undj5MPlEyv"
      },
      "outputs": [],
      "source": [
        "training_data = []\n",
        "\n",
        "def create_training_data():\n",
        "    for category in CATEGORIES:  \n",
        "\n",
        "        path = os.path.join(DATADIR,category) \n",
        "        class_num = CATEGORIES.index(category)  \n",
        "        for img in os.listdir(path):\n",
        "            \n",
        "          try:\n",
        "\n",
        "            img_array = cv2.imread(os.path.join(path,img))  \n",
        "            new_array = cv2.resize(img_array, (IMG_SIZE, IMG_SIZE))  \n",
        "            training_data.append([new_array, class_num])  \n",
        "          \n",
        "                \n",
        "          except OSError as e:\n",
        "            print(\"OSErrroBad img most likely\", e, os.path.join(path,img))\n",
        "          except Exception as e:\n",
        "            print(\"general exception\", e, os.path.join(path,img))\n",
        "\n",
        "create_training_data()"
      ]
    },
    {
      "cell_type": "code",
      "execution_count": null,
      "metadata": {
        "id": "EPzl245fiJnd"
      },
      "outputs": [],
      "source": [
        "print(len(training_data))"
      ]
    },
    {
      "cell_type": "code",
      "execution_count": null,
      "metadata": {
        "id": "5iQ_SONMkJjC"
      },
      "outputs": [],
      "source": [
        "import random\n",
        "\n",
        "random.shuffle(training_data)"
      ]
    },
    {
      "cell_type": "code",
      "execution_count": null,
      "metadata": {
        "id": "tlYrnVilCOog"
      },
      "outputs": [],
      "source": [
        "for sample in training_data[:10]:\n",
        "    print(sample[1])"
      ]
    },
    {
      "cell_type": "code",
      "execution_count": null,
      "metadata": {
        "id": "OZZhYkBrCT3b"
      },
      "outputs": [],
      "source": [
        "X = []\n",
        "y = []\n",
        "\n",
        "for features,label in training_data:\n",
        "    X.append(features)\n",
        "    y.append(label)\n",
        "\n",
        "print(X[0].reshape(-1, IMG_SIZE, IMG_SIZE, 3))\n",
        "\n",
        "X = np.array(X).reshape(-1, IMG_SIZE, IMG_SIZE, 3)"
      ]
    },
    {
      "cell_type": "code",
      "execution_count": null,
      "metadata": {
        "id": "k_w_0qMmWdKZ"
      },
      "outputs": [],
      "source": [
        "x_train = np.array(X)\n",
        "y_train = np.array(y)"
      ]
    },
    {
      "cell_type": "code",
      "execution_count": null,
      "metadata": {
        "id": "4zi9_AfgDWPJ"
      },
      "outputs": [],
      "source": [
        "import pickle\n",
        "\n",
        "pickle_out = open(\"X.pickle\",\"wb\")\n",
        "pickle.dump(x_train, pickle_out)\n",
        "pickle_out.close()\n",
        "\n",
        "pickle_out = open(\"y.pickle\",\"wb\")\n",
        "pickle.dump(y_train, pickle_out)\n",
        "pickle_out.close()"
      ]
    },
    {
      "cell_type": "code",
      "execution_count": null,
      "metadata": {
        "id": "DjWjOJrHFR9s"
      },
      "outputs": [],
      "source": [
        "#pickle_in = open(\"X.pickle\",\"rb\")\n",
        "#x_train= pickle.load(pickle_in)\n",
        "\n",
        "#pickle_in = open(\"y.pickle\",\"rb\")\n",
        "#y_train = pickle.load(pickle_in)"
      ]
    },
    {
      "cell_type": "code",
      "execution_count": null,
      "metadata": {
        "id": "MLGfas34FXlg"
      },
      "outputs": [],
      "source": [
        "\n",
        "#x_train = np.expand_dims(x_train, -1)\n",
        "#x_tes= np.expand_dims(x_test, -1)\n",
        "print(x_train.shape)"
      ]
    },
    {
      "cell_type": "code",
      "execution_count": null,
      "metadata": {
        "id": "HYaJv9OEHUNA"
      },
      "outputs": [],
      "source": [
        "K = len(set(y_train))\n",
        "print(\"number of classes:\", K)"
      ]
    },
    {
      "cell_type": "code",
      "execution_count": null,
      "metadata": {
        "id": "TxS1ORv1oDF6"
      },
      "outputs": [],
      "source": [
        "shape=x_train[0].shape\n",
        "shape"
      ]
    },
    {
      "cell_type": "code",
      "execution_count": null,
      "metadata": {
        "id": "3GDJ6bTxKJBp"
      },
      "outputs": [],
      "source": [
        "#i = shape\n",
        "#x = Conv2D(32, (3, 3), strides=2, activation='relu')\n",
        "#x = Conv2D(64, (3, 3), strides=2, activation='relu')\n",
        "#x = Conv2D(128, (3, 3), strides=2, activation='relu')\n",
        "#x = Flatten()\n",
        "#x = Dropout(0.2)\n",
        "#x = Dense(512, activation='relu')\n",
        "#x = Dropout(0.2)\n",
        "#x = Dense(K, activation='softmax')\n",
        "\n",
        "#model = Model(i, x)\n"
      ]
    },
    {
      "cell_type": "code",
      "execution_count": null,
      "metadata": {
        "id": "FUJEkdAFPlds"
      },
      "outputs": [],
      "source": [
        "from tensorflow.keras.callbacks import TensorBoard\n",
        "NAME = \"QuickAid-CNN\"\n",
        "tensorboard = TensorBoard(log_dir=\"logs/{}\".format(NAME))"
      ]
    },
    {
      "cell_type": "code",
      "execution_count": null,
      "metadata": {
        "id": "kqz4Jwqc1B9U"
      },
      "outputs": [],
      "source": [
        " '''dense_layers = [0,1,2]\n",
        " layer_sizes = [32, 64, 128]\n",
        " conv_layers = [1, 2, 3]\n",
        "\n",
        " for dense_layer in dense_layers:\n",
        "     for layer_size in layer_sizes:\n",
        "         for conv_layer in conv_layers:\n",
        "             NAME = \"{}-conv-{}-nodes-{}-dense-{}\".format(conv_layer, layer_size, dense_layer, int(time.time()))\n",
        "             print(NAME)\n",
        "             x_train = x_train/255.0\n",
        "\n",
        "             model = Sequential()\n",
        "\n",
        "             model.add(Conv2D(256, (3, 3), input_shape=x_train.shape[1:]))\n",
        "             model.add(Activation('relu'))\n",
        "             model.add(MaxPooling2D(pool_size=(2, 2)))\n",
        "\n",
        "             model.add(Conv2D(256, (3, 3)))\n",
        "             model.add(Activation('relu'))\n",
        "             model.add(MaxPooling2D(pool_size=(2, 2)))\n",
        "\n",
        "             model.add(Flatten())  \n",
        "\n",
        "             model.add(Dense(64))\n",
        "\n",
        "             model.add(Dense(7))\n",
        "             model.add(Activation('sigmoid'))\n",
        "\n",
        "             model.compile(loss='sparse_categorical_crossentropy',\n",
        "                           optimizer='adam',\n",
        "                           metrics=['accuracy'])\n",
        "\n",
        "             #r=model.fit(x_train, y_train, batch_size=32, epochs = 10)\n",
        "             r=model.fit(x_train, y_train, batch_size=32, epochs = 30,callbacks=[tensorboard])'''\n",
        "             "
      ]
    },
    {
      "cell_type": "code",
      "execution_count": null,
      "metadata": {
        "id": "VgETWG2MJ7Ye"
      },
      "outputs": [],
      "source": [
        "x_train = x_train/255.0\n",
        "\n",
        "model = Sequential()\n",
        "\n",
        "model.add(Conv2D(256, (3, 3), input_shape=x_train.shape[1:]))\n",
        "model.add(Activation('relu'))\n",
        "model.add(MaxPooling2D(pool_size=(2, 2)))\n",
        "\n",
        "model.add(Conv2D(256, (3, 3)))\n",
        "model.add(Activation('relu'))\n",
        "model.add(MaxPooling2D(pool_size=(2, 2)))\n",
        "\n",
        "model.add(Flatten())  \n",
        "\n",
        "model.add(Dense(64))\n",
        "\n",
        "model.add(Dense(7))\n",
        "model.add(Activation('sigmoid'))\n",
        "\n",
        "model.compile(loss='sparse_categorical_crossentropy',\n",
        "              optimizer='adam',\n",
        "              metrics=['accuracy'])\n",
        "\n",
        "#r=model.fit(x_train, y_train, batch_size=32, epochs = 10)\n",
        "r=model.fit(x_train, y_train, batch_size=32, epochs = 30,callbacks=[tensorboard])"
      ]
    },
    {
      "cell_type": "code",
      "execution_count": null,
      "metadata": {
        "id": "lmHRN7ShqlZa"
      },
      "outputs": [],
      "source": [
        "#pickle.dump(r, open('model.pkl', 'wb'))"
      ]
    },
    {
      "cell_type": "code",
      "execution_count": null,
      "metadata": {
        "id": "yM-f8ASYzeQP"
      },
      "outputs": [],
      "source": [
        "!mkdir -p saved_model\n",
        "model.save('quickaid.h5')"
      ]
    },
    {
      "cell_type": "code",
      "execution_count": null,
      "metadata": {
        "id": "VIvXxlTwtiaH"
      },
      "outputs": [],
      "source": [
        "#pickled_model = pickle.load(open('model.pkl', 'rb'))\n",
        "#pickled_model.predict(X_test)"
      ]
    },
    {
      "cell_type": "code",
      "execution_count": null,
      "metadata": {
        "id": "7eSghomMuPbZ"
      },
      "outputs": [],
      "source": [
        "test_data = []\n",
        "\n",
        "def create_test_data():\n",
        "    for category in CATEGORIES:  \n",
        "\n",
        "        path = os.path.join(DATADIR,category) \n",
        "        class_num = CATEGORIES.index(category)  \n",
        "        for img in os.listdir(path):\n",
        "            \n",
        "          try:\n",
        "\n",
        "            img_array = cv2.imread(os.path.join(path,img)) \n",
        "            new_array = cv2.resize(img_array, (IMG_SIZE, IMG_SIZE)) \n",
        "            test_data.append([new_array, class_num])  \n",
        "          \n",
        "                \n",
        "          except OSError as e:\n",
        "            print(\"OSErrroBad img most likely\", e, os.path.join(path,img))\n",
        "          except Exception as e:\n",
        "            print(\"general exception\", e, os.path.join(path,img))\n",
        "\n",
        "create_test_data()"
      ]
    },
    {
      "cell_type": "code",
      "execution_count": null,
      "metadata": {
        "id": "59mqkFRquz4_"
      },
      "outputs": [],
      "source": [
        "import random\n",
        "\n",
        "random.shuffle(test_data)"
      ]
    },
    {
      "cell_type": "code",
      "execution_count": null,
      "metadata": {
        "id": "gpcUdMflm9XK"
      },
      "outputs": [],
      "source": [
        "print(len(test_data))"
      ]
    },
    {
      "cell_type": "code",
      "execution_count": null,
      "metadata": {
        "id": "qFHsfSCNu6sm"
      },
      "outputs": [],
      "source": [
        "for sample in test_data[:10]:\n",
        "    print(sample[1])\n",
        "test_data1 = []\n",
        "a=0\n",
        "class_num = CATEGORIES.index(category)\n",
        "for i in test_data[:50]:\n",
        "  test_data1.append([test_data,class_num])\n",
        " # a=a+1\n",
        "\n",
        "print(len(test_data1))  \n"
      ]
    },
    {
      "cell_type": "code",
      "execution_count": null,
      "metadata": {
        "id": "PljZ-KVLoH82"
      },
      "outputs": [],
      "source": [
        "\n",
        "random.shuffle(test_data1)\n",
        "for sample in test_data1[:10]:\n",
        "  print(sample[1])"
      ]
    },
    {
      "cell_type": "code",
      "execution_count": null,
      "metadata": {
        "id": "ynr7POouvASO"
      },
      "outputs": [],
      "source": [
        "x_test = []\n",
        "y_test = []\n",
        "\n",
        "for features,label in test_data:\n",
        "    x_test.append(features)\n",
        "    y_test.append(label)\n",
        "\n",
        "print(x_test[0].reshape(-1, IMG_SIZE, IMG_SIZE, 3))\n",
        "\n",
        "x_test= np.array(X).reshape(-1, IMG_SIZE, IMG_SIZE, 3)"
      ]
    },
    {
      "cell_type": "code",
      "execution_count": null,
      "metadata": {
        "id": "eqsRLUInfROt"
      },
      "outputs": [],
      "source": [
        "#gpu_options = tf.GPUOptions(per_process_gpu_memory_fraction=0.33)\n",
        "#sess=tf.Session(config=tf.ConfigProto(gpu_options=gpu_options))"
      ]
    },
    {
      "cell_type": "code",
      "execution_count": null,
      "metadata": {
        "id": "2HvMU8EEf-rA"
      },
      "outputs": [],
      "source": [
        "import time\n",
        "from tensorflow.keras.callbacks import TensorBoard"
      ]
    },
    {
      "cell_type": "code",
      "execution_count": null,
      "metadata": {
        "id": "u36QvFF_gQE9"
      },
      "outputs": [],
      "source": [
        "NAME = \"QuickAid-{}\".format(int(time.time()))"
      ]
    },
    {
      "cell_type": "code",
      "execution_count": null,
      "metadata": {
        "id": "7tnsHtn5g1b3"
      },
      "outputs": [],
      "source": [
        "tensorboard = TensorBoard(log_dir=\"logs/{}\".format(NAME))"
      ]
    },
    {
      "cell_type": "code",
      "execution_count": null,
      "metadata": {
        "id": "9NbRlnXWhsDf"
      },
      "outputs": [],
      "source": []
    },
    {
      "cell_type": "code",
      "execution_count": null,
      "metadata": {
        "id": "YTaTVSI6rXMn"
      },
      "outputs": [],
      "source": [
        "x_test = x_test/255.0"
      ]
    },
    {
      "cell_type": "code",
      "execution_count": null,
      "metadata": {
        "id": "-qliqDxDruiB"
      },
      "outputs": [],
      "source": [
        "prediction = model.predict(x_test)"
      ]
    },
    {
      "cell_type": "code",
      "execution_count": null,
      "metadata": {
        "id": "mg2HIspzsY2o"
      },
      "outputs": [],
      "source": [
        "#from tensorflow.keras.applications.resnet50 import preprocess_input, decode_predictions"
      ]
    },
    {
      "cell_type": "code",
      "execution_count": null,
      "metadata": {
        "id": "7srhmHcor-Mi"
      },
      "outputs": [],
      "source": [
        "print(prediction)"
      ]
    },
    {
      "cell_type": "code",
      "execution_count": null,
      "metadata": {
        "id": "dbh_e2nesb3y"
      },
      "outputs": [],
      "source": [
        "y_test1 = model.predict(x_test)"
      ]
    },
    {
      "cell_type": "code",
      "execution_count": null,
      "metadata": {
        "id": "evgVkCXot6CZ"
      },
      "outputs": [],
      "source": [
        "for i in x_test[:3]:\n",
        " print( (y_test1))"
      ]
    },
    {
      "cell_type": "code",
      "source": [
        "#score = r.score(x_train,y_train)"
      ],
      "metadata": {
        "id": "tcwdvsjsCiKI"
      },
      "execution_count": null,
      "outputs": []
    },
    {
      "cell_type": "code",
      "execution_count": null,
      "metadata": {
        "id": "47YB0xJYudlx"
      },
      "outputs": [],
      "source": [
        "def prepare(filepath):\n",
        "    IMG_SIZE = 200 \n",
        "    img_array = cv2.imread(filepath)  \n",
        "    new_array = cv2.resize(img_array, (IMG_SIZE, IMG_SIZE))  \n",
        "    return new_array.reshape(-1, IMG_SIZE, IMG_SIZE, 3)  \n",
        "    #return new_array.reshape(-1)"
      ]
    },
    {
      "cell_type": "code",
      "source": [],
      "metadata": {
        "id": "8Dgu9bOS_MUr"
      },
      "execution_count": null,
      "outputs": []
    },
    {
      "cell_type": "code",
      "source": [
        "img=\"/content/Wound_dataset/Burns/burns (15).jpg\""
      ],
      "metadata": {
        "id": "ElMfhtmJAwHA"
      },
      "execution_count": null,
      "outputs": []
    },
    {
      "cell_type": "code",
      "execution_count": null,
      "metadata": {
        "id": "MD0LeANCzJaY"
      },
      "outputs": [],
      "source": [
        "pre = model.predict([prepare(img)])\n",
        "#pre = model.predict(img)"
      ]
    },
    {
      "cell_type": "code",
      "source": [
        "pre"
      ],
      "metadata": {
        "id": "ApT9wTI2NJaU"
      },
      "execution_count": null,
      "outputs": []
    },
    {
      "cell_type": "code",
      "source": [
        "pre_1= pre.astype('i')\n",
        "pre_2 = pre_1.flatten()\n",
        "pre_2"
      ],
      "metadata": {
        "id": "RqnLyFCGG68l"
      },
      "execution_count": null,
      "outputs": []
    },
    {
      "cell_type": "code",
      "source": [
        "\n",
        "#predictions1 = {'intercept': LM.intercept_, 'coefficient': LM.coef_,   'predicted_value': predicted_values, 'accuracy' : score}\n",
        "\n",
        "#prdictions_1={\"Abrasions\":r.Abrasions,\"Bruises\":r.Bruises,\"Burns\":r.Burns,\"Cut\":r.Cut,\"Ingrown_nails\":r.Ingrown_nails,\"Laceration\":r.Laceration,\"Stab_wound\":r.Stab_wound}\n"
      ],
      "metadata": {
        "id": "Dq8f_JJOCQKG"
      },
      "execution_count": null,
      "outputs": []
    },
    {
      "cell_type": "code",
      "source": [
        "a=[]\n",
        "for i in range(len(pre_2)):\n",
        "  #max=pre[0][0]\n",
        "  if(pre_2[i]==1):\n",
        "    a.append(i)\n",
        "\n",
        "  #print(pre[i])\n",
        "   \n",
        "a   \n",
        "\n"
      ],
      "metadata": {
        "id": "bfAt5dIi7xiU"
      },
      "execution_count": null,
      "outputs": []
    },
    {
      "cell_type": "code",
      "source": [
        "for i in range(len(a)):\n",
        "  print(CATEGORIES[a[i]])\n"
      ],
      "metadata": {
        "id": "heJgE41ANP0f"
      },
      "execution_count": null,
      "outputs": []
    },
    {
      "cell_type": "code",
      "source": [
        "#print(CATEGORIES[int(pre[0][0])])"
      ],
      "metadata": {
        "id": "J4nv7MH8NUzJ"
      },
      "execution_count": null,
      "outputs": []
    },
    {
      "cell_type": "code",
      "source": [],
      "metadata": {
        "id": "M5btsqJNNeY2"
      },
      "execution_count": null,
      "outputs": []
    },
    {
      "cell_type": "code",
      "source": [],
      "metadata": {
        "id": "wf36K7x--PiS"
      },
      "execution_count": null,
      "outputs": []
    }
  ],
  "metadata": {
    "accelerator": "GPU",
    "colab": {
      "private_outputs": true,
      "provenance": [],
      "mount_file_id": "1XJtEeFQonZpyCqfwuuWVOHrIiAKI2dt5",
      "authorship_tag": "ABX9TyMIQRyryFEUFlOHlpMRQXmR",
      "include_colab_link": true
    },
    "gpuClass": "standard",
    "kernelspec": {
      "display_name": "Python 3",
      "name": "python3"
    },
    "language_info": {
      "name": "python"
    }
  },
  "nbformat": 4,
  "nbformat_minor": 0
}